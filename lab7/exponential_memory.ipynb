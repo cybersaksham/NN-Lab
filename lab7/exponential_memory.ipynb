{
 "cells": [
  {
   "cell_type": "code",
   "execution_count": 120,
   "metadata": {},
   "outputs": [],
   "source": [
    "import numpy as np"
   ]
  },
  {
   "cell_type": "code",
   "execution_count": 121,
   "metadata": {},
   "outputs": [],
   "source": [
    "class ExponentialAssociativeNetwork:\n",
    "    def __init__(self, b):\n",
    "        self.b = b\n",
    "\n",
    "    def train(self, X, y, ip, epochs = 100):\n",
    "        num = len(X)\n",
    "        op = np.array([])\n",
    "        for e in range(epochs):\n",
    "            yi = np.dot(X, ip)\n",
    "            op = self.activation(yi, y)\n",
    "            if op in y:\n",
    "                return op\n",
    "            ip = self.update(X, y, op)\n",
    "        return op\n",
    "    \n",
    "    def activation(self, x, y):\n",
    "        o = []\n",
    "        for i in range(len(y.T)):\n",
    "            oi = np.dot(y.T[i], pow(self.b, x))\n",
    "            o.append(1 if oi >= 0 else -1)\n",
    "        return o\n",
    "\n",
    "    def update(self, X, y, op):\n",
    "        o = np.dot(y, op)\n",
    "        xi = np.dot(X.T, pow(self.b, o))\n",
    "        return xi"
   ]
  },
  {
   "cell_type": "code",
   "execution_count": 122,
   "metadata": {},
   "outputs": [
    {
     "data": {
      "text/plain": [
       "[-1, 1, -1]"
      ]
     },
     "execution_count": 122,
     "metadata": {},
     "output_type": "execute_result"
    }
   ],
   "source": [
    "X_train = np.array([\n",
    "    np.array([-1,-1,-1,-1,-1,1,-1,-1,1,1,1,-1,1,1,1,1]),\n",
    "    np.array([-1,-1,-1,-1,-1,1,1,-1,-1,1,1,-1,1,1,1,1]),\n",
    "    np.array([-1,-1,-1,-1,-1,-1,1,-1,-1,1,1,1,1,1,1,1]),\n",
    "])\n",
    "\n",
    "y_train = np.array([\n",
    "    np.array([1, -1, -1]),\n",
    "    np.array([-1, 1, -1]),\n",
    "    np.array([-1, -1, 1]),\n",
    "])\n",
    "\n",
    "model = ExponentialAssociativeNetwork(2)\n",
    "model.train(X_train, y_train, X_train[1])"
   ]
  }
 ],
 "metadata": {
  "kernelspec": {
   "display_name": "venv",
   "language": "python",
   "name": "python3"
  },
  "language_info": {
   "codemirror_mode": {
    "name": "ipython",
    "version": 3
   },
   "file_extension": ".py",
   "mimetype": "text/x-python",
   "name": "python",
   "nbconvert_exporter": "python",
   "pygments_lexer": "ipython3",
   "version": "3.9.6"
  },
  "orig_nbformat": 4
 },
 "nbformat": 4,
 "nbformat_minor": 2
}
