{
 "cells": [
  {
   "cell_type": "code",
   "execution_count": 117,
   "metadata": {},
   "outputs": [],
   "source": [
    "import numpy as np"
   ]
  },
  {
   "cell_type": "code",
   "execution_count": 118,
   "metadata": {},
   "outputs": [],
   "source": [
    "class SimplifiedAssociativeNetwork:\n",
    "    def train(self, X, y, ip):\n",
    "        X = self.normalize(X)\n",
    "        ip = self.normalize([ip])[0]\n",
    "        m = np.dot(X, ip)\n",
    "        return self.activation(m, y)\n",
    "    \n",
    "    @staticmethod\n",
    "    def normalize(X):\n",
    "        return X / np.linalg.norm(X, axis=1, keepdims=True)\n",
    "    \n",
    "    @staticmethod\n",
    "    def activation(x, y):\n",
    "        m = np.zeros(x.shape)\n",
    "        m[np.argmax(x)] = 1\n",
    "        return np.dot(y.T, m)"
   ]
  },
  {
   "cell_type": "code",
   "execution_count": 119,
   "metadata": {},
   "outputs": [
    {
     "data": {
      "text/plain": [
       "array([20., 40., 50.])"
      ]
     },
     "execution_count": 119,
     "metadata": {},
     "output_type": "execute_result"
    }
   ],
   "source": [
    "X_train = np.array([\n",
    "    np.array([18.82,-26.32,110.40,62.80]),\n",
    "    np.array([56.55,24.82,98.67,-16.84]),\n",
    "    np.array([11.26,-54.78,-84.86,100.96]),\n",
    "])\n",
    "\n",
    "y_train = np.array([\n",
    "    np.array([30,50,40]),\n",
    "    np.array([20,40,50]),\n",
    "    np.array([10,30,20])\n",
    "])\n",
    "\n",
    "model = SimplifiedAssociativeNetwork()\n",
    "model.train(X_train, y_train, X_train[1])"
   ]
  }
 ],
 "metadata": {
  "kernelspec": {
   "display_name": "venv",
   "language": "python",
   "name": "python3"
  },
  "language_info": {
   "codemirror_mode": {
    "name": "ipython",
    "version": 3
   },
   "file_extension": ".py",
   "mimetype": "text/x-python",
   "name": "python",
   "nbconvert_exporter": "python",
   "pygments_lexer": "ipython3",
   "version": "3.9.6"
  },
  "orig_nbformat": 4
 },
 "nbformat": 4,
 "nbformat_minor": 2
}
