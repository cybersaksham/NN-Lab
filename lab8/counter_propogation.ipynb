{
 "cells": [
  {
   "cell_type": "code",
   "execution_count": 1,
   "metadata": {},
   "outputs": [],
   "source": [
    "import numpy as np\n",
    "import math"
   ]
  },
  {
   "cell_type": "code",
   "execution_count": 7,
   "metadata": {},
   "outputs": [],
   "source": [
    "class CPN:\n",
    "    def __init__(self, m, n, weights=None) -> None:\n",
    "        self.m = m\n",
    "        self.n = n\n",
    "        self.weights = np.random.rand(m) if weights is None else weights\n",
    "    \n",
    "    def train(self, data):\n",
    "        table = np.random.rand(self.m)\n",
    "\n",
    "        sigma = np.random.rand(self.m)\n",
    "        for i in range(self.m):\n",
    "            sigma[i] = self.__get_sigma(data, i)\n",
    "        \n",
    "        for i in range(self.m):\n",
    "            output = 0\n",
    "            for j in range(self.m):\n",
    "                dist = 0\n",
    "                for k in range(self.n):\n",
    "                    dist += math.pow(data[i][k] - data[j][k], 2)\n",
    "                phi = math.exp(-1 * dist / (2 * sigma[i] * sigma[i]))\n",
    "                output += self.weights[j] * phi\n",
    "            if output >= 0:\n",
    "                table[i] = 1\n",
    "            else:\n",
    "                table[i] = 0\n",
    "\n",
    "        return table\n",
    "    \n",
    "    def __get_sigma(self, data, i):\n",
    "        dist_array = []\n",
    "        for j in range(self.m):\n",
    "            if j != i:\n",
    "                dist = 0\n",
    "                for k in range(self.n):\n",
    "                    dist += math.pow(data[i][k] - data[j][k], 2)\n",
    "                dist_array.append(dist)\n",
    "        dist_array.sort()\n",
    "        return math.sqrt((dist_array[0] + dist_array[1]) / 2)"
   ]
  },
  {
   "cell_type": "code",
   "execution_count": 8,
   "metadata": {},
   "outputs": [
    {
     "data": {
      "text/plain": [
       "array([0., 1., 1., 0.])"
      ]
     },
     "execution_count": 8,
     "metadata": {},
     "output_type": "execute_result"
    }
   ],
   "source": [
    "data = np.array([\n",
    "    np.array([0,0]),\n",
    "    np.array([0,1]),\n",
    "    np.array([1,0]),\n",
    "    np.array([1,1]),\n",
    "])\n",
    "cpn = CPN(len(data), len(data[0]), np.array([-1,1,1,-1]))\n",
    "cpn.train(data)"
   ]
  }
 ],
 "metadata": {
  "kernelspec": {
   "display_name": "venv",
   "language": "python",
   "name": "python3"
  },
  "language_info": {
   "codemirror_mode": {
    "name": "ipython",
    "version": 3
   },
   "file_extension": ".py",
   "mimetype": "text/x-python",
   "name": "python",
   "nbconvert_exporter": "python",
   "pygments_lexer": "ipython3",
   "version": "3.9.6"
  },
  "orig_nbformat": 4
 },
 "nbformat": 4,
 "nbformat_minor": 2
}
