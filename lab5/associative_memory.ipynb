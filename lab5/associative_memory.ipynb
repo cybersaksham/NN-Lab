{
 "cells": [
  {
   "cell_type": "code",
   "execution_count": 48,
   "metadata": {},
   "outputs": [],
   "source": [
    "import numpy as np"
   ]
  },
  {
   "cell_type": "code",
   "execution_count": 49,
   "metadata": {},
   "outputs": [],
   "source": [
    "class AutoAssociativeNetwork:\n",
    "    def __init__(self, n):\n",
    "        self.weights = np.zeros((n, n))\n",
    "\n",
    "    def train(self, ip):\n",
    "        num = len(ip)\n",
    "        for i in range(num):\n",
    "            xi = ip[i]\n",
    "            yj = ip[i]\n",
    "            self.weights += np.outer(xi, yj)\n",
    "\n",
    "    def test(self, ip):\n",
    "        y_ = np.dot(ip, self.weights)\n",
    "        for i in range(len(y_)):\n",
    "            y_[i] = self.activation(y_[i])\n",
    "        return y_\n",
    "    \n",
    "    @staticmethod\n",
    "    def activation(y):\n",
    "        if y > 0:\n",
    "            return 1\n",
    "        elif y <= 0:\n",
    "            return -1"
   ]
  },
  {
   "cell_type": "code",
   "execution_count": 50,
   "metadata": {},
   "outputs": [],
   "source": [
    "class HeteroAssociativeNetwork:\n",
    "    def __init__(self, n, m):\n",
    "        self.weights = np.zeros((n, m))\n",
    "\n",
    "    def train(self, ip, op):\n",
    "        num = len(ip)\n",
    "        for i in range(num):\n",
    "            xi = ip[i]\n",
    "            yj = op[i]\n",
    "            self.weights += np.outer(xi, yj)\n",
    "\n",
    "    def test(self, ip):\n",
    "        y_ = np.dot(ip, self.weights)\n",
    "        for i in range(len(y_)):\n",
    "            y_[i] = self.activation(y_[i])\n",
    "        return y_\n",
    "    \n",
    "    @staticmethod\n",
    "    def activation(y):\n",
    "        if y > 0:\n",
    "            return 1\n",
    "        elif y < 0:\n",
    "            return -1\n",
    "        return 0"
   ]
  },
  {
   "cell_type": "code",
   "execution_count": 51,
   "metadata": {},
   "outputs": [
    {
     "data": {
      "text/plain": [
       "array([ 1., -1., -1.])"
      ]
     },
     "execution_count": 51,
     "metadata": {},
     "output_type": "execute_result"
    }
   ],
   "source": [
    "# Auto Associative Memory\n",
    "n = 3\n",
    "\n",
    "X_train = [\n",
    "    np.array([1, -1, -1]),\n",
    "    np.array([-1, 1, 1]),\n",
    "]\n",
    "\n",
    "auto = AutoAssociativeNetwork(n)\n",
    "auto.train(X_train)\n",
    "\n",
    "X_test = np.array([1, -1, -1])\n",
    "y_test = auto.test(X_test)\n",
    "y_test"
   ]
  },
  {
   "cell_type": "code",
   "execution_count": 52,
   "metadata": {},
   "outputs": [
    {
     "data": {
      "text/plain": [
       "array([ 1., -1.])"
      ]
     },
     "execution_count": 52,
     "metadata": {},
     "output_type": "execute_result"
    }
   ],
   "source": [
    "# Hetero Associative Memory\n",
    "n = 3\n",
    "m = 2\n",
    "\n",
    "X_train = [\n",
    "    np.array([1, 0, 0]),\n",
    "    np.array([0, 1, 1]),\n",
    "]\n",
    "\n",
    "y_train = [\n",
    "    np.array([1, -1]),\n",
    "    np.array([-1, 1]),\n",
    "]\n",
    "\n",
    "hetero = HeteroAssociativeNetwork(n, m)\n",
    "hetero.train(X_train, y_train)\n",
    "\n",
    "X_test = np.array([1, 0, 0])\n",
    "y_test = hetero.test(X_test)\n",
    "y_test"
   ]
  }
 ],
 "metadata": {
  "kernelspec": {
   "display_name": "venv",
   "language": "python",
   "name": "python3"
  },
  "language_info": {
   "codemirror_mode": {
    "name": "ipython",
    "version": 3
   },
   "file_extension": ".py",
   "mimetype": "text/x-python",
   "name": "python",
   "nbconvert_exporter": "python",
   "pygments_lexer": "ipython3",
   "version": "3.9.6"
  },
  "orig_nbformat": 4
 },
 "nbformat": 4,
 "nbformat_minor": 2
}
